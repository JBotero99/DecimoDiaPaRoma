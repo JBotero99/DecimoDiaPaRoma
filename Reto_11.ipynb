{
  "nbformat": 4,
  "nbformat_minor": 0,
  "metadata": {
    "colab": {
      "provenance": []
    },
    "kernelspec": {
      "name": "python3",
      "display_name": "Python 3"
    },
    "language_info": {
      "name": "python"
    }
  },
  "cells": [
    {
      "cell_type": "markdown",
      "source": [
        "**Procesar el archivo y extraer:** cantidad de vocales, cantidad de consonantes y el listado de las 50 palabras que más se repiten."
      ],
      "metadata": {
        "id": "1SlHHzr4eKkd"
      }
    },
    {
      "cell_type": "code",
      "source": [
        "!pip install requests\n",
        "\n",
        "import requests\n",
        "\n",
        "def contenido(url):\n",
        "  archivo = requests.get(url) #Obtenemos la info de la URL al archivo.\n",
        "  return archivo.text #Ya queda el archivo en formato de texto.\n",
        "\n",
        "def cont_voc(txt): #El argumento es el texto que le vamos a meter.\n",
        "  vocales = 'aeiou' #Damos lo que queremos encontrar.\n",
        "  count = sum(txt.lower().count(vocal) for vocal in vocales)\n",
        "  #Hacemos que el texto esté en minúsculas para solo usar las que ya dimos.\n",
        "  #Adicionalmente, contamos las vocales que aparecen en el texto.\n",
        "  return count\n",
        "\n",
        "#Aplicamos el mismo proceso, pero con consonantes\n",
        "def cont_cons(txt):\n",
        "  consonantes = 'bcdfghjklmnpqrstvwxyz'\n",
        "  count = sum(txt.lower().count(consonante) for consonante in consonantes)\n",
        "  return count\n",
        "\n",
        "def palabras_repetidas(texto, n=50): #El texto y con lo que limitamos a 50 palabras.\n",
        "    palabras = texto.lower().split()\n",
        "    # Convertimos a minúsculas para tomar todas las palabras iguales y separamos en palabras.\n",
        "    frecuencias = {}\n",
        "    # Creamos un diccionario que guarde las palabras con su frecuencia.\n",
        "    for palabra in palabras: #Iteramos para que se sume 1 a x palabra cada vez que la encuentre\n",
        "      frecuencias[palabra] = frecuencias.get(palabra, 0) + 1\n",
        "    # se ordenan por frecuencia de mayor a menor y luego alfabeticamente tomando ya los primeros 50\n",
        "    mas_frecuentes = sorted(frecuencias.items(), key=lambda x: (-x[1], x[0]))[:n]\n",
        "    return mas_frecuentes\n",
        "\n",
        "if __name__ == \"__main__\":\n",
        "  URL = 'https://www.py4e.com/code3/mbox.txt'\n",
        "  archivo = contenido(URL)\n",
        "  cant_voc = cont_voc(archivo)\n",
        "  print(\"\\n\")\n",
        "  print(f\"La cantidad de vocales en el texto es de: {cant_voc} vocales \\n\")\n",
        "  cant_cons = cont_cons(archivo)\n",
        "  print(f\"La cantidad de consonantes en el texto es de: {cant_cons} consonantes \\n\")\n",
        "  print(f\"Las 50 palabras más repetidas son: \\n\")\n",
        "  pal_50 = palabras_repetidas(archivo)\n",
        "  for palabra, frecuencia in pal_50:\n",
        "    print(f\"{palabra} -> {frecuencia} veces\")\n",
        ""
      ],
      "metadata": {
        "id": "k8WPWDF2emm2",
        "colab": {
          "base_uri": "https://localhost:8080/"
        },
        "outputId": "e62beb55-0d58-44aa-cdba-cbb0df35c8cd"
      },
      "execution_count": 16,
      "outputs": [
        {
          "output_type": "stream",
          "name": "stdout",
          "text": [
            "Requirement already satisfied: requests in /usr/local/lib/python3.11/dist-packages (2.32.3)\n",
            "Requirement already satisfied: charset-normalizer<4,>=2 in /usr/local/lib/python3.11/dist-packages (from requests) (3.4.1)\n",
            "Requirement already satisfied: idna<4,>=2.5 in /usr/local/lib/python3.11/dist-packages (from requests) (3.10)\n",
            "Requirement already satisfied: urllib3<3,>=1.21.1 in /usr/local/lib/python3.11/dist-packages (from requests) (2.3.0)\n",
            "Requirement already satisfied: certifi>=2017.4.17 in /usr/local/lib/python3.11/dist-packages (from requests) (2025.1.31)\n",
            "\n",
            "\n",
            "La cantidad de vocales en el texto es de: 1597835 vocales \n",
            "\n",
            "La cantidad de consonantes en el texto es de: 2612121 consonantes \n",
            "\n",
            "Las 50 palabras más repetidas son: \n",
            "\n",
            "2007 -> 20413 veces\n",
            "from -> 18126 veces\n",
            "by -> 18028 veces\n",
            "received: -> 16173 veces\n",
            "with -> 12756 veces\n",
            "id -> 12607 veces\n",
            "-0500 -> 11774 veces\n",
            "dec -> 9267 veces\n",
            "nov -> 8988 veces\n",
            "for -> 7714 veces\n",
            "esmtp -> 7188 veces\n",
            "nakamura.uits.iupui.edu -> 7188 veces\n",
            "paploo.uhi.ac.uk -> 7188 veces\n",
            "<source@collab.sakaiproject.org>; -> 5391 veces\n",
            "charset=utf-8 -> 5391 veces\n",
            "text/plain; -> 5391 veces\n",
            "(gmt) -> 4932 veces\n",
            "+0000 -> 4932 veces\n",
            "oct -> 4164 veces\n",
            "you -> 3621 veces\n",
            "(cyrus -> 3594 veces\n",
            "(localhost -> 3594 veces\n",
            "(postfix) -> 3594 veces\n",
            "[127.0.0.1]) -> 3594 veces\n",
            "lmtpa; -> 3594 veces\n",
            "murder -> 3594 veces\n",
            "smtp -> 3594 veces\n",
            "date: -> 3587 veces\n",
            "thu, -> 3534 veces\n",
            "tue, -> 3305 veces\n",
            "fri, -> 2964 veces\n",
            "-0400 -> 2910 veces\n",
            "to -> 2767 veces\n",
            "mon, -> 2704 veces\n",
            "wed, -> 2582 veces\n",
            "the -> 2544 veces\n",
            "svn -> 2528 veces\n",
            "- -> 2037 veces\n",
            "2007) -> 2032 veces\n",
            "modify -> 1884 veces\n",
            "new -> 1877 veces\n",
            "this -> 1877 veces\n",
            "message -> 1839 veces\n",
            "29 -> 1834 veces\n",
            "was -> 1834 veces\n",
            "sakai -> 1823 veces\n",
            "at -> 1822 veces\n",
            "can -> 1821 veces\n",
            "using -> 1821 veces\n",
            "set -> 1812 veces\n"
          ]
        }
      ]
    }
  ]
}